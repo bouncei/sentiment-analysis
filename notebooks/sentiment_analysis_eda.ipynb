{
 "cells": [
  {
   "cell_type": "code",
   "execution_count": 3,
   "metadata": {},
   "outputs": [
    {
     "ename": "ModuleNotFoundError",
     "evalue": "No module named 'pandas'",
     "output_type": "error",
     "traceback": [
      "\u001b[0;31m---------------------------------------------------------------------------\u001b[0m",
      "\u001b[0;31mModuleNotFoundError\u001b[0m                       Traceback (most recent call last)",
      "Cell \u001b[0;32mIn[3], line 1\u001b[0m\n\u001b[0;32m----> 1\u001b[0m \u001b[38;5;28;01mimport\u001b[39;00m \u001b[38;5;21;01mpandas\u001b[39;00m \u001b[38;5;28;01mas\u001b[39;00m \u001b[38;5;21;01mpd\u001b[39;00m\n\u001b[1;32m      2\u001b[0m \u001b[38;5;28;01mimport\u001b[39;00m \u001b[38;5;21;01mmatplotlib\u001b[39;00m\u001b[38;5;21;01m.\u001b[39;00m\u001b[38;5;21;01mpyplot\u001b[39;00m \u001b[38;5;28;01mas\u001b[39;00m \u001b[38;5;21;01mplt\u001b[39;00m\n\u001b[1;32m      3\u001b[0m \u001b[38;5;28;01mimport\u001b[39;00m \u001b[38;5;21;01mseaborn\u001b[39;00m \u001b[38;5;28;01mas\u001b[39;00m \u001b[38;5;21;01msns\u001b[39;00m\n",
      "\u001b[0;31mModuleNotFoundError\u001b[0m: No module named 'pandas'"
     ]
    }
   ],
   "source": [
    "import pandas as pd\n",
    "import matplotlib.pyplot as plt\n",
    "import seaborn as sns\n",
    "\n",
    "# LOAD THE DATA\n",
    "data_path = '../data/raw/IMDB_Dataset.csv'\n",
    "df = pd.read_csv(data_path)\n",
    "\n",
    "# CHECK FOR MISSING VALUES\n",
    "print(df.isnull().sum())\n",
    "\n",
    "\n",
    "# CLEAN THE DATA (REMOVE DUPLICATES)\n",
    "df = df.drop_duplicates()\n",
    "\n",
    "# PLOT THE DISTRIBUTION OF CLASSES\n",
    "sns.countplot(df[\"sentiment\"])\n",
    "plt.title(\"Sentiment Label Distribution\")\n",
    "plt.show()\n",
    "\n",
    "# VIEW SOME POSITIVE AND NEGATIVE EXAMPLES\n",
    "print(\"Positive review example\")\n",
    "print(df[df[\"sentiment\"] == \"positve\"][\"review\"].values[0])\n",
    "\n",
    "print(\"\\nNegative review example:\")\n",
    "print(df[df['sentiment'] == \"negative\"]['review'].values[0])\n",
    "\n",
    "\n"
   ]
  },
  {
   "cell_type": "markdown",
   "metadata": {},
   "source": []
  }
 ],
 "metadata": {
  "kernelspec": {
   "display_name": "env",
   "language": "python",
   "name": "python3"
  },
  "language_info": {
   "codemirror_mode": {
    "name": "ipython",
    "version": 3
   },
   "file_extension": ".py",
   "mimetype": "text/x-python",
   "name": "python",
   "nbconvert_exporter": "python",
   "pygments_lexer": "ipython3",
   "version": "3.12.5"
  }
 },
 "nbformat": 4,
 "nbformat_minor": 2
}
